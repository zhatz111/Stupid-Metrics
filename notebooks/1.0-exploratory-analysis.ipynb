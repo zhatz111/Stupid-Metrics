{
 "cells": [
  {
   "cell_type": "markdown",
   "metadata": {},
   "source": [
    "### Metrics to Use:\n",
    "- Number of people naming their baby \"Karen\" -> Predicting public trust in Government\n",
    "- Tiktok dance trends -> predict youth unemployment rate\n",
    "- Video game FPS popularity -> predict crime rate\n",
    "- Annual sales of crocs sandals -> predict global warming rates\n",
    "- Spotify's most played breakup song -> Predicting divorce rates\n"
   ]
  },
  {
   "cell_type": "markdown",
   "metadata": {},
   "source": []
  }
 ],
 "metadata": {
  "language_info": {
   "name": "python"
  }
 },
 "nbformat": 4,
 "nbformat_minor": 2
}
