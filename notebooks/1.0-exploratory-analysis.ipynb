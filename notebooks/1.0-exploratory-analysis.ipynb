{
 "cells": [
  {
   "cell_type": "markdown",
   "metadata": {},
   "source": [
    "### Metrics to Use:\n",
    "- Number of people naming their baby \"Karen\" -> Predicting public trust in Government\n",
    "- Tiktok dance trends -> predict youth unemployment rate\n",
    "- Video game FPS popularity -> predict crime rate\n",
    "- Annual sales of crocs sandals -> predict global warming rates\n",
    "- Spotify's most played breakup song -> Predicting divorce rates\n"
   ]
  },
  {
   "cell_type": "markdown",
   "metadata": {},
   "source": []
  },
  {
   "cell_type": "code",
   "execution_count": 7,
   "metadata": {},
   "outputs": [],
   "source": [
    "import numpy as np\n",
    "import pandas as pd\n",
    "import tulipy as ti\n",
    "import pandas_ta as ta"
   ]
  },
  {
   "cell_type": "code",
   "execution_count": 89,
   "metadata": {},
   "outputs": [
    {
     "data": {
      "text/html": [
       "<div>\n",
       "<style scoped>\n",
       "    .dataframe tbody tr th:only-of-type {\n",
       "        vertical-align: middle;\n",
       "    }\n",
       "\n",
       "    .dataframe tbody tr th {\n",
       "        vertical-align: top;\n",
       "    }\n",
       "\n",
       "    .dataframe thead th {\n",
       "        text-align: right;\n",
       "    }\n",
       "</style>\n",
       "<table border=\"1\" class=\"dataframe\">\n",
       "  <thead>\n",
       "    <tr style=\"text-align: right;\">\n",
       "      <th></th>\n",
       "      <th>symbol</th>\n",
       "      <th>timestamp</th>\n",
       "      <th>open</th>\n",
       "      <th>high</th>\n",
       "      <th>low</th>\n",
       "      <th>close</th>\n",
       "      <th>volume</th>\n",
       "      <th>trade_count</th>\n",
       "      <th>vwap</th>\n",
       "    </tr>\n",
       "  </thead>\n",
       "  <tbody>\n",
       "    <tr>\n",
       "      <th>0</th>\n",
       "      <td>AAPL</td>\n",
       "      <td>2023-07-12 04:00:00+00:00</td>\n",
       "      <td>189.68</td>\n",
       "      <td>191.7000</td>\n",
       "      <td>188.470</td>\n",
       "      <td>189.77</td>\n",
       "      <td>60757160.0</td>\n",
       "      <td>652270.0</td>\n",
       "      <td>189.984281</td>\n",
       "    </tr>\n",
       "    <tr>\n",
       "      <th>1</th>\n",
       "      <td>AAPL</td>\n",
       "      <td>2023-07-13 04:00:00+00:00</td>\n",
       "      <td>190.50</td>\n",
       "      <td>191.1900</td>\n",
       "      <td>189.780</td>\n",
       "      <td>190.54</td>\n",
       "      <td>41348909.0</td>\n",
       "      <td>468081.0</td>\n",
       "      <td>190.565107</td>\n",
       "    </tr>\n",
       "    <tr>\n",
       "      <th>2</th>\n",
       "      <td>AAPL</td>\n",
       "      <td>2023-07-14 04:00:00+00:00</td>\n",
       "      <td>190.23</td>\n",
       "      <td>191.1799</td>\n",
       "      <td>189.630</td>\n",
       "      <td>190.69</td>\n",
       "      <td>41622330.0</td>\n",
       "      <td>513236.0</td>\n",
       "      <td>190.461122</td>\n",
       "    </tr>\n",
       "    <tr>\n",
       "      <th>3</th>\n",
       "      <td>AAPL</td>\n",
       "      <td>2023-07-17 04:00:00+00:00</td>\n",
       "      <td>191.90</td>\n",
       "      <td>194.3200</td>\n",
       "      <td>191.810</td>\n",
       "      <td>193.99</td>\n",
       "      <td>50546738.0</td>\n",
       "      <td>603051.0</td>\n",
       "      <td>193.325530</td>\n",
       "    </tr>\n",
       "    <tr>\n",
       "      <th>4</th>\n",
       "      <td>AAPL</td>\n",
       "      <td>2023-07-18 04:00:00+00:00</td>\n",
       "      <td>193.35</td>\n",
       "      <td>194.3300</td>\n",
       "      <td>192.415</td>\n",
       "      <td>193.73</td>\n",
       "      <td>48357948.0</td>\n",
       "      <td>544724.0</td>\n",
       "      <td>193.375703</td>\n",
       "    </tr>\n",
       "  </tbody>\n",
       "</table>\n",
       "</div>"
      ],
      "text/plain": [
       "  symbol                  timestamp    open      high      low   close  \\\n",
       "0   AAPL  2023-07-12 04:00:00+00:00  189.68  191.7000  188.470  189.77   \n",
       "1   AAPL  2023-07-13 04:00:00+00:00  190.50  191.1900  189.780  190.54   \n",
       "2   AAPL  2023-07-14 04:00:00+00:00  190.23  191.1799  189.630  190.69   \n",
       "3   AAPL  2023-07-17 04:00:00+00:00  191.90  194.3200  191.810  193.99   \n",
       "4   AAPL  2023-07-18 04:00:00+00:00  193.35  194.3300  192.415  193.73   \n",
       "\n",
       "       volume  trade_count        vwap  \n",
       "0  60757160.0     652270.0  189.984281  \n",
       "1  41348909.0     468081.0  190.565107  \n",
       "2  41622330.0     513236.0  190.461122  \n",
       "3  50546738.0     603051.0  193.325530  \n",
       "4  48357948.0     544724.0  193.375703  "
      ]
     },
     "execution_count": 89,
     "metadata": {},
     "output_type": "execute_result"
    }
   ],
   "source": [
    "df = pd.read_csv(r\"C:\\Users\\zhatz\\Documents\\GitHub\\Data-Science-Masters\\Mathematics of Finance\\Final_project_stock_data.csv\")\n",
    "df.head()"
   ]
  },
  {
   "cell_type": "code",
   "execution_count": 12,
   "metadata": {},
   "outputs": [
    {
     "data": {
      "text/plain": [
       "0            NaN\n",
       "1            NaN\n",
       "2            NaN\n",
       "3            NaN\n",
       "4            NaN\n",
       "          ...   \n",
       "1967   -5.451461\n",
       "1968   -5.451690\n",
       "1969   -5.458007\n",
       "1970   -5.452978\n",
       "1971   -5.501480\n",
       "Name: CG_10, Length: 1972, dtype: float64"
      ]
     },
     "execution_count": 12,
     "metadata": {},
     "output_type": "execute_result"
    }
   ],
   "source": [
    "df.ta.cg()"
   ]
  },
  {
   "cell_type": "code",
   "execution_count": 13,
   "metadata": {},
   "outputs": [
    {
     "data": {
      "text/plain": [
       "<bound method AnalysisIndicators.ema of <pandas_ta.core.AnalysisIndicators object at 0x000001F4367DE190>>"
      ]
     },
     "execution_count": 13,
     "metadata": {},
     "output_type": "execute_result"
    }
   ],
   "source": [
    "getattr(df.ta, \"ema\")"
   ]
  },
  {
   "cell_type": "code",
   "execution_count": 90,
   "metadata": {},
   "outputs": [],
   "source": [
    "indicators = [{\"name\": \"ema\", \"params\":{}}, {\"name\": \"sma\", \"params\":{\"length\":16}}, {\"name\": \"macd\", \"params\":{\"fast\":8, \"slow\":17, \"signal\":9}}]"
   ]
  },
  {
   "cell_type": "code",
   "execution_count": 91,
   "metadata": {},
   "outputs": [],
   "source": [
    "def compute_indicators(indicators_df, required_indicators):\n",
    "    for ind in required_indicators:\n",
    "        ind[\"column_name\"] = []\n",
    "        name = ind['name']\n",
    "        params = ind.get('params', {})\n",
    "        func = getattr(indicators_df.ta, name)\n",
    "        result = func(**params, append=True)\n",
    "        if isinstance(result, pd.Series):\n",
    "            ind[\"column_name\"].append(result.name)\n",
    "        else:\n",
    "            ind[\"column_name\"].extend(list(result.columns))\n",
    "    return indicators_df, required_indicators"
   ]
  },
  {
   "cell_type": "code",
   "execution_count": 92,
   "metadata": {},
   "outputs": [],
   "source": [
    "data, res = compute_indicators(df, indicators)"
   ]
  },
  {
   "cell_type": "code",
   "execution_count": 93,
   "metadata": {},
   "outputs": [
    {
     "data": {
      "text/plain": [
       "[{'name': 'ema', 'params': {}, 'column_name': ['EMA_10']},\n",
       " {'name': 'sma', 'params': {'length': 16}, 'column_name': ['SMA_16']},\n",
       " {'name': 'macd',\n",
       "  'params': {'fast': 8, 'slow': 17, 'signal': 9},\n",
       "  'column_name': ['MACD_8_17_9', 'MACDh_8_17_9', 'MACDs_8_17_9']}]"
      ]
     },
     "execution_count": 93,
     "metadata": {},
     "output_type": "execute_result"
    }
   ],
   "source": [
    "res"
   ]
  },
  {
   "cell_type": "code",
   "execution_count": null,
   "metadata": {},
   "outputs": [],
   "source": []
  }
 ],
 "metadata": {
  "kernelspec": {
   "display_name": ".venv (3.11.1)",
   "language": "python",
   "name": "python3"
  },
  "language_info": {
   "codemirror_mode": {
    "name": "ipython",
    "version": 3
   },
   "file_extension": ".py",
   "mimetype": "text/x-python",
   "name": "python",
   "nbconvert_exporter": "python",
   "pygments_lexer": "ipython3",
   "version": "3.11.1"
  }
 },
 "nbformat": 4,
 "nbformat_minor": 2
}
